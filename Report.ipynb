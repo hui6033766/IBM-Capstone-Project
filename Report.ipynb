{
 "cells": [
  {
   "cell_type": "markdown",
   "metadata": {},
   "source": [
    "## Introduction/Business Problem"
   ]
  },
  {
   "cell_type": "markdown",
   "metadata": {},
   "source": [
    "I want to open a tea shop in Toronto but I don’t know where is the best neighbor for it. After some research I believe people who drink coffee may get interested in tea. So I decide to open my tea shop near coffee shops. In this case only I will be interested in this report. :)"
   ]
  },
  {
   "cell_type": "markdown",
   "metadata": {},
   "source": [
    "## Data"
   ]
  },
  {
   "cell_type": "markdown",
   "metadata": {},
   "source": [
    "I will reuse the Toronto data in last week and focus on only “coffee shops”.I need data with neighbor longitude and latitude information as well as coffee shop longitude and latitude "
   ]
  },
  {
   "cell_type": "markdown",
   "metadata": {},
   "source": [
    "## Methodology "
   ]
  },
  {
   "cell_type": "markdown",
   "metadata": {},
   "source": [
    "First, I downloaded Canada postal codes from wikipedia and filter out postal codes of Toronto. After removing records without \"borough\", there are 103 post codes left. \n",
    "Second, I Geospatial data (Longitude and Latitude) about the boroughs in order to build up a geo map.\n",
    "Third, using Foursquare I got the venue information and location in each borough. Also I found there are 155 coffee shops in Toronto and it is the top type of Venue in Toronto. \n",
    "Forth, I filted out venue of all coffee shops but Starbuck Then I cluster the remaining coffee shops by their location with radius of 500 meters and 5 clusters.\n",
    "\n"
   ]
  },
  {
   "cell_type": "markdown",
   "metadata": {},
   "source": [
    "## Results and Discussion "
   ]
  },
  {
   "cell_type": "markdown",
   "metadata": {},
   "source": [
    "My analysis shows that there are 155 coffee shops in downtown Toronto. Among all the coffee shops,Starbucks has the most shops as 53. What's more it has very mature tea products too. In order to avoid competition with it I removed all the venues of Starbucks. For the remaining coffee shop venues, I used cluster method to check which cluster have the most coffee shops. Result of the clustering is that cluster 2 has the most coffee shops: 70. With no doubt that all 70 coffee shops are in downtown Toronto.  \n",
    "And the neighborhoods these coffee shops located are: Queen's Park, Ontario Provincial Government\",'Garden District, Ryerson', 'St. James Town', 'Berczy Park','Central Bay Street', 'Richmond, Adelaide, King','Harbourfront East, Union Station, Toronto Islands','Toronto Dominion Centre, Design Exchange','Commerce Court, Victoria Hotel','CN Tower, King and Spadina, Railway Lands, Harbourfront West, Bathurst Quay, South Niagara, Island airport','Stn A PO Boxes', 'First Canadian Place, Underground city','Church and Wellesley\n",
    "The top 3 choices are：【Central Bay Street】,【Commerce Court, Victoria Hotel】, or 【First Canadian Place, Underground city】"
   ]
  },
  {
   "cell_type": "markdown",
   "metadata": {},
   "source": [
    "## Conclusion"
   ]
  },
  {
   "cell_type": "markdown",
   "metadata": {},
   "source": [
    "Purpose of this project was to find potential venues to open a tea shop.By calculating coffee shop density distribution from Foursquare data we have first identified general boroughs that justify further analysis, and then generated extensive collection of locations which satisfy some basic requirements regarding existing nearby coffee shops. Clustering of those locations was then performed in order to create major zones of interest and addresses of those zone centers were created to be used as starting points for final exploration.\n",
    "\n",
    "Final decission on optimal location will be made after investigating the rent prices of each neighborhood.\n"
   ]
  }
 ],
 "metadata": {
  "kernelspec": {
   "display_name": "Python 3",
   "language": "python",
   "name": "python3"
  },
  "language_info": {
   "codemirror_mode": {
    "name": "ipython",
    "version": 3
   },
   "file_extension": ".py",
   "mimetype": "text/x-python",
   "name": "python",
   "nbconvert_exporter": "python",
   "pygments_lexer": "ipython3",
   "version": "3.6.4"
  },
  "latex_envs": {
   "LaTeX_envs_menu_present": true,
   "autoclose": false,
   "autocomplete": true,
   "bibliofile": "biblio.bib",
   "cite_by": "apalike",
   "current_citInitial": 1,
   "eqLabelWithNumbers": true,
   "eqNumInitial": 1,
   "hotkeys": {
    "equation": "Ctrl-E",
    "itemize": "Ctrl-I"
   },
   "labels_anchors": false,
   "latex_user_defs": false,
   "report_style_numbering": false,
   "user_envs_cfg": false
  }
 },
 "nbformat": 4,
 "nbformat_minor": 2
}
