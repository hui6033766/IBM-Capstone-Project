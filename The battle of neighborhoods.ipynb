{
 "cells": [
  {
   "cell_type": "markdown",
   "metadata": {},
   "source": [
    "# read wiki page to dataframe"
   ]
  },
  {
   "cell_type": "code",
   "execution_count": 191,
   "metadata": {},
   "outputs": [],
   "source": [
    "import pandas as pd\n",
    "from geopy.geocoders import Nominatim\n",
    "import warnings\n",
    "warnings.filterwarnings(\"ignore\")\n",
    "import requests\n",
    "import numpy as np\n",
    "from sklearn.cluster import KMeans\n",
    "import matplotlib.cm as cm\n",
    "import matplotlib.colors as colors"
   ]
  },
  {
   "cell_type": "code",
   "execution_count": 192,
   "metadata": {
    "scrolled": false
   },
   "outputs": [
    {
     "data": {
      "text/plain": [
       "(180, 3)"
      ]
     },
     "execution_count": 192,
     "metadata": {},
     "output_type": "execute_result"
    }
   ],
   "source": [
    "tables=pd.read_html(\"https://en.wikipedia.org/wiki/List_of_postal_codes_of_Canada:_M\")\n",
    "df=tables[0]\n",
    "\n",
    "df.shape\n",
    "#df.head()"
   ]
  },
  {
   "cell_type": "markdown",
   "metadata": {},
   "source": [
    "### Only process the cells that have an assigned borough. Ignore cells with a borough that is Not assigned."
   ]
  },
  {
   "cell_type": "code",
   "execution_count": 157,
   "metadata": {},
   "outputs": [
    {
     "data": {
      "text/plain": [
       "(103, 3)"
      ]
     },
     "execution_count": 157,
     "metadata": {},
     "output_type": "execute_result"
    }
   ],
   "source": [
    "df=df[df[\"Borough\"]!=\"Not assigned\"]\n",
    "df.shape"
   ]
  },
  {
   "cell_type": "markdown",
   "metadata": {},
   "source": [
    "### If a cell has a borough but a Not assigned neighborhood, then the neighborhood will be the same as the borough."
   ]
  },
  {
   "cell_type": "code",
   "execution_count": 158,
   "metadata": {},
   "outputs": [
    {
     "data": {
      "text/plain": [
       "0"
      ]
     },
     "execution_count": 158,
     "metadata": {},
     "output_type": "execute_result"
    }
   ],
   "source": [
    "# there is no neighborhood as \"Not assigned\" after removing \"Not assigned\" Borough\n",
    "\n",
    "list=df[df[\"Neighbourhood\"] == 'Not assigned']\n",
    "\n",
    "len(list)\n"
   ]
  },
  {
   "cell_type": "markdown",
   "metadata": {},
   "source": [
    "### After data clean, there are 103 rows left in table."
   ]
  },
  {
   "cell_type": "code",
   "execution_count": 159,
   "metadata": {},
   "outputs": [
    {
     "data": {
      "text/plain": [
       "(103, 3)"
      ]
     },
     "execution_count": 159,
     "metadata": {},
     "output_type": "execute_result"
    }
   ],
   "source": [
    "df.shape"
   ]
  },
  {
   "cell_type": "code",
   "execution_count": 160,
   "metadata": {
    "scrolled": true
   },
   "outputs": [
    {
     "data": {
      "text/html": [
       "<div>\n",
       "<style scoped>\n",
       "    .dataframe tbody tr th:only-of-type {\n",
       "        vertical-align: middle;\n",
       "    }\n",
       "\n",
       "    .dataframe tbody tr th {\n",
       "        vertical-align: top;\n",
       "    }\n",
       "\n",
       "    .dataframe thead th {\n",
       "        text-align: right;\n",
       "    }\n",
       "</style>\n",
       "<table border=\"1\" class=\"dataframe\">\n",
       "  <thead>\n",
       "    <tr style=\"text-align: right;\">\n",
       "      <th></th>\n",
       "      <th>Postal Code</th>\n",
       "      <th>Borough</th>\n",
       "      <th>Neighbourhood</th>\n",
       "    </tr>\n",
       "  </thead>\n",
       "  <tbody>\n",
       "    <tr>\n",
       "      <th>2</th>\n",
       "      <td>M3A</td>\n",
       "      <td>North York</td>\n",
       "      <td>Parkwoods</td>\n",
       "    </tr>\n",
       "    <tr>\n",
       "      <th>3</th>\n",
       "      <td>M4A</td>\n",
       "      <td>North York</td>\n",
       "      <td>Victoria Village</td>\n",
       "    </tr>\n",
       "    <tr>\n",
       "      <th>4</th>\n",
       "      <td>M5A</td>\n",
       "      <td>Downtown Toronto</td>\n",
       "      <td>Regent Park, Harbourfront</td>\n",
       "    </tr>\n",
       "    <tr>\n",
       "      <th>5</th>\n",
       "      <td>M6A</td>\n",
       "      <td>North York</td>\n",
       "      <td>Lawrence Manor, Lawrence Heights</td>\n",
       "    </tr>\n",
       "    <tr>\n",
       "      <th>6</th>\n",
       "      <td>M7A</td>\n",
       "      <td>Downtown Toronto</td>\n",
       "      <td>Queen's Park, Ontario Provincial Government</td>\n",
       "    </tr>\n",
       "  </tbody>\n",
       "</table>\n",
       "</div>"
      ],
      "text/plain": [
       "  Postal Code           Borough                                Neighbourhood\n",
       "2         M3A        North York                                    Parkwoods\n",
       "3         M4A        North York                             Victoria Village\n",
       "4         M5A  Downtown Toronto                    Regent Park, Harbourfront\n",
       "5         M6A        North York             Lawrence Manor, Lawrence Heights\n",
       "6         M7A  Downtown Toronto  Queen's Park, Ontario Provincial Government"
      ]
     },
     "execution_count": 160,
     "metadata": {},
     "output_type": "execute_result"
    }
   ],
   "source": [
    "df.head()"
   ]
  },
  {
   "cell_type": "markdown",
   "metadata": {},
   "source": [
    "# Add geo info of postal code"
   ]
  },
  {
   "cell_type": "code",
   "execution_count": 161,
   "metadata": {},
   "outputs": [],
   "source": [
    "df_geo=pd.read_csv(\"C:/Users/jingh/Downloads/Geospatial_Coordinates.csv\")"
   ]
  },
  {
   "cell_type": "code",
   "execution_count": 162,
   "metadata": {},
   "outputs": [
    {
     "data": {
      "text/html": [
       "<div>\n",
       "<style scoped>\n",
       "    .dataframe tbody tr th:only-of-type {\n",
       "        vertical-align: middle;\n",
       "    }\n",
       "\n",
       "    .dataframe tbody tr th {\n",
       "        vertical-align: top;\n",
       "    }\n",
       "\n",
       "    .dataframe thead th {\n",
       "        text-align: right;\n",
       "    }\n",
       "</style>\n",
       "<table border=\"1\" class=\"dataframe\">\n",
       "  <thead>\n",
       "    <tr style=\"text-align: right;\">\n",
       "      <th></th>\n",
       "      <th>Postal Code</th>\n",
       "      <th>Latitude</th>\n",
       "      <th>Longitude</th>\n",
       "    </tr>\n",
       "  </thead>\n",
       "  <tbody>\n",
       "    <tr>\n",
       "      <th>0</th>\n",
       "      <td>M1B</td>\n",
       "      <td>43.806686</td>\n",
       "      <td>-79.194353</td>\n",
       "    </tr>\n",
       "    <tr>\n",
       "      <th>1</th>\n",
       "      <td>M1C</td>\n",
       "      <td>43.784535</td>\n",
       "      <td>-79.160497</td>\n",
       "    </tr>\n",
       "    <tr>\n",
       "      <th>2</th>\n",
       "      <td>M1E</td>\n",
       "      <td>43.763573</td>\n",
       "      <td>-79.188711</td>\n",
       "    </tr>\n",
       "    <tr>\n",
       "      <th>3</th>\n",
       "      <td>M1G</td>\n",
       "      <td>43.770992</td>\n",
       "      <td>-79.216917</td>\n",
       "    </tr>\n",
       "    <tr>\n",
       "      <th>4</th>\n",
       "      <td>M1H</td>\n",
       "      <td>43.773136</td>\n",
       "      <td>-79.239476</td>\n",
       "    </tr>\n",
       "  </tbody>\n",
       "</table>\n",
       "</div>"
      ],
      "text/plain": [
       "  Postal Code   Latitude  Longitude\n",
       "0         M1B  43.806686 -79.194353\n",
       "1         M1C  43.784535 -79.160497\n",
       "2         M1E  43.763573 -79.188711\n",
       "3         M1G  43.770992 -79.216917\n",
       "4         M1H  43.773136 -79.239476"
      ]
     },
     "execution_count": 162,
     "metadata": {},
     "output_type": "execute_result"
    }
   ],
   "source": [
    "df_geo.head()"
   ]
  },
  {
   "cell_type": "code",
   "execution_count": 163,
   "metadata": {},
   "outputs": [],
   "source": [
    "df_merge = pd.merge(df, df_geo, on='Postal Code')"
   ]
  },
  {
   "cell_type": "code",
   "execution_count": 164,
   "metadata": {},
   "outputs": [
    {
     "data": {
      "text/html": [
       "<div>\n",
       "<style scoped>\n",
       "    .dataframe tbody tr th:only-of-type {\n",
       "        vertical-align: middle;\n",
       "    }\n",
       "\n",
       "    .dataframe tbody tr th {\n",
       "        vertical-align: top;\n",
       "    }\n",
       "\n",
       "    .dataframe thead th {\n",
       "        text-align: right;\n",
       "    }\n",
       "</style>\n",
       "<table border=\"1\" class=\"dataframe\">\n",
       "  <thead>\n",
       "    <tr style=\"text-align: right;\">\n",
       "      <th></th>\n",
       "      <th>Postal Code</th>\n",
       "      <th>Borough</th>\n",
       "      <th>Neighbourhood</th>\n",
       "      <th>Latitude</th>\n",
       "      <th>Longitude</th>\n",
       "    </tr>\n",
       "  </thead>\n",
       "  <tbody>\n",
       "    <tr>\n",
       "      <th>0</th>\n",
       "      <td>M3A</td>\n",
       "      <td>North York</td>\n",
       "      <td>Parkwoods</td>\n",
       "      <td>43.753259</td>\n",
       "      <td>-79.329656</td>\n",
       "    </tr>\n",
       "    <tr>\n",
       "      <th>1</th>\n",
       "      <td>M4A</td>\n",
       "      <td>North York</td>\n",
       "      <td>Victoria Village</td>\n",
       "      <td>43.725882</td>\n",
       "      <td>-79.315572</td>\n",
       "    </tr>\n",
       "    <tr>\n",
       "      <th>2</th>\n",
       "      <td>M5A</td>\n",
       "      <td>Downtown Toronto</td>\n",
       "      <td>Regent Park, Harbourfront</td>\n",
       "      <td>43.654260</td>\n",
       "      <td>-79.360636</td>\n",
       "    </tr>\n",
       "    <tr>\n",
       "      <th>3</th>\n",
       "      <td>M6A</td>\n",
       "      <td>North York</td>\n",
       "      <td>Lawrence Manor, Lawrence Heights</td>\n",
       "      <td>43.718518</td>\n",
       "      <td>-79.464763</td>\n",
       "    </tr>\n",
       "    <tr>\n",
       "      <th>4</th>\n",
       "      <td>M7A</td>\n",
       "      <td>Downtown Toronto</td>\n",
       "      <td>Queen's Park, Ontario Provincial Government</td>\n",
       "      <td>43.662301</td>\n",
       "      <td>-79.389494</td>\n",
       "    </tr>\n",
       "  </tbody>\n",
       "</table>\n",
       "</div>"
      ],
      "text/plain": [
       "  Postal Code           Borough                                Neighbourhood  \\\n",
       "0         M3A        North York                                    Parkwoods   \n",
       "1         M4A        North York                             Victoria Village   \n",
       "2         M5A  Downtown Toronto                    Regent Park, Harbourfront   \n",
       "3         M6A        North York             Lawrence Manor, Lawrence Heights   \n",
       "4         M7A  Downtown Toronto  Queen's Park, Ontario Provincial Government   \n",
       "\n",
       "    Latitude  Longitude  \n",
       "0  43.753259 -79.329656  \n",
       "1  43.725882 -79.315572  \n",
       "2  43.654260 -79.360636  \n",
       "3  43.718518 -79.464763  \n",
       "4  43.662301 -79.389494  "
      ]
     },
     "execution_count": 164,
     "metadata": {},
     "output_type": "execute_result"
    }
   ],
   "source": [
    "df_merge.head(5)"
   ]
  },
  {
   "cell_type": "markdown",
   "metadata": {},
   "source": [
    "# Explore and cluster the neighborhoods in Toronto"
   ]
  },
  {
   "cell_type": "markdown",
   "metadata": {},
   "source": [
    "### Data set explore"
   ]
  },
  {
   "cell_type": "code",
   "execution_count": 165,
   "metadata": {},
   "outputs": [],
   "source": [
    "#!conda install -c conda-forge folium=0.5.0 --yes \n",
    "import folium "
   ]
  },
  {
   "cell_type": "code",
   "execution_count": 166,
   "metadata": {},
   "outputs": [
    {
     "name": "stdout",
     "output_type": "stream",
     "text": [
      "The geograpical coordinate of Toronto City are 43.6534817, -79.3839347.\n"
     ]
    }
   ],
   "source": [
    "address = 'Toronto, Ontario'\n",
    "\n",
    "geolocator = Nominatim(user_agent=\"ny_explorer\")\n",
    "location = geolocator.geocode(address)\n",
    "latitude = location.latitude\n",
    "longitude = location.longitude\n",
    "print('The geograpical coordinate of Toronto City are {}, {}.'.format(latitude, longitude))"
   ]
  },
  {
   "cell_type": "code",
   "execution_count": 167,
   "metadata": {
    "code_folding": [],
    "scrolled": true
   },
   "outputs": [],
   "source": [
    "# filter out neighborhoods in Toronto and rename Neighbourhood to Neighborhood\n",
    "df_Toronto=df_merge[df_merge['Borough'].str.contains('Toronto')]\n",
    "df_Toronto.rename(columns={'Neighbourhood':'Neighborhood'},inplace = True)"
   ]
  },
  {
   "cell_type": "code",
   "execution_count": 168,
   "metadata": {},
   "outputs": [
    {
     "data": {
      "text/html": [
       "<div>\n",
       "<style scoped>\n",
       "    .dataframe tbody tr th:only-of-type {\n",
       "        vertical-align: middle;\n",
       "    }\n",
       "\n",
       "    .dataframe tbody tr th {\n",
       "        vertical-align: top;\n",
       "    }\n",
       "\n",
       "    .dataframe thead th {\n",
       "        text-align: right;\n",
       "    }\n",
       "</style>\n",
       "<table border=\"1\" class=\"dataframe\">\n",
       "  <thead>\n",
       "    <tr style=\"text-align: right;\">\n",
       "      <th></th>\n",
       "      <th>Postal Code</th>\n",
       "      <th>Borough</th>\n",
       "      <th>Neighborhood</th>\n",
       "      <th>Latitude</th>\n",
       "      <th>Longitude</th>\n",
       "    </tr>\n",
       "  </thead>\n",
       "  <tbody>\n",
       "    <tr>\n",
       "      <th>0</th>\n",
       "      <td>M5A</td>\n",
       "      <td>Downtown Toronto</td>\n",
       "      <td>Regent Park, Harbourfront</td>\n",
       "      <td>43.654260</td>\n",
       "      <td>-79.360636</td>\n",
       "    </tr>\n",
       "    <tr>\n",
       "      <th>1</th>\n",
       "      <td>M7A</td>\n",
       "      <td>Downtown Toronto</td>\n",
       "      <td>Queen's Park, Ontario Provincial Government</td>\n",
       "      <td>43.662301</td>\n",
       "      <td>-79.389494</td>\n",
       "    </tr>\n",
       "    <tr>\n",
       "      <th>2</th>\n",
       "      <td>M5B</td>\n",
       "      <td>Downtown Toronto</td>\n",
       "      <td>Garden District, Ryerson</td>\n",
       "      <td>43.657162</td>\n",
       "      <td>-79.378937</td>\n",
       "    </tr>\n",
       "    <tr>\n",
       "      <th>3</th>\n",
       "      <td>M5C</td>\n",
       "      <td>Downtown Toronto</td>\n",
       "      <td>St. James Town</td>\n",
       "      <td>43.651494</td>\n",
       "      <td>-79.375418</td>\n",
       "    </tr>\n",
       "    <tr>\n",
       "      <th>4</th>\n",
       "      <td>M4E</td>\n",
       "      <td>East Toronto</td>\n",
       "      <td>The Beaches</td>\n",
       "      <td>43.676357</td>\n",
       "      <td>-79.293031</td>\n",
       "    </tr>\n",
       "    <tr>\n",
       "      <th>5</th>\n",
       "      <td>M5E</td>\n",
       "      <td>Downtown Toronto</td>\n",
       "      <td>Berczy Park</td>\n",
       "      <td>43.644771</td>\n",
       "      <td>-79.373306</td>\n",
       "    </tr>\n",
       "    <tr>\n",
       "      <th>6</th>\n",
       "      <td>M5G</td>\n",
       "      <td>Downtown Toronto</td>\n",
       "      <td>Central Bay Street</td>\n",
       "      <td>43.657952</td>\n",
       "      <td>-79.387383</td>\n",
       "    </tr>\n",
       "    <tr>\n",
       "      <th>7</th>\n",
       "      <td>M6G</td>\n",
       "      <td>Downtown Toronto</td>\n",
       "      <td>Christie</td>\n",
       "      <td>43.669542</td>\n",
       "      <td>-79.422564</td>\n",
       "    </tr>\n",
       "    <tr>\n",
       "      <th>8</th>\n",
       "      <td>M5H</td>\n",
       "      <td>Downtown Toronto</td>\n",
       "      <td>Richmond, Adelaide, King</td>\n",
       "      <td>43.650571</td>\n",
       "      <td>-79.384568</td>\n",
       "    </tr>\n",
       "    <tr>\n",
       "      <th>9</th>\n",
       "      <td>M6H</td>\n",
       "      <td>West Toronto</td>\n",
       "      <td>Dufferin, Dovercourt Village</td>\n",
       "      <td>43.669005</td>\n",
       "      <td>-79.442259</td>\n",
       "    </tr>\n",
       "    <tr>\n",
       "      <th>10</th>\n",
       "      <td>M5J</td>\n",
       "      <td>Downtown Toronto</td>\n",
       "      <td>Harbourfront East, Union Station, Toronto Islands</td>\n",
       "      <td>43.640816</td>\n",
       "      <td>-79.381752</td>\n",
       "    </tr>\n",
       "    <tr>\n",
       "      <th>11</th>\n",
       "      <td>M6J</td>\n",
       "      <td>West Toronto</td>\n",
       "      <td>Little Portugal, Trinity</td>\n",
       "      <td>43.647927</td>\n",
       "      <td>-79.419750</td>\n",
       "    </tr>\n",
       "    <tr>\n",
       "      <th>12</th>\n",
       "      <td>M4K</td>\n",
       "      <td>East Toronto</td>\n",
       "      <td>The Danforth West, Riverdale</td>\n",
       "      <td>43.679557</td>\n",
       "      <td>-79.352188</td>\n",
       "    </tr>\n",
       "    <tr>\n",
       "      <th>13</th>\n",
       "      <td>M5K</td>\n",
       "      <td>Downtown Toronto</td>\n",
       "      <td>Toronto Dominion Centre, Design Exchange</td>\n",
       "      <td>43.647177</td>\n",
       "      <td>-79.381576</td>\n",
       "    </tr>\n",
       "    <tr>\n",
       "      <th>14</th>\n",
       "      <td>M6K</td>\n",
       "      <td>West Toronto</td>\n",
       "      <td>Brockton, Parkdale Village, Exhibition Place</td>\n",
       "      <td>43.636847</td>\n",
       "      <td>-79.428191</td>\n",
       "    </tr>\n",
       "    <tr>\n",
       "      <th>15</th>\n",
       "      <td>M4L</td>\n",
       "      <td>East Toronto</td>\n",
       "      <td>India Bazaar, The Beaches West</td>\n",
       "      <td>43.668999</td>\n",
       "      <td>-79.315572</td>\n",
       "    </tr>\n",
       "    <tr>\n",
       "      <th>16</th>\n",
       "      <td>M5L</td>\n",
       "      <td>Downtown Toronto</td>\n",
       "      <td>Commerce Court, Victoria Hotel</td>\n",
       "      <td>43.648198</td>\n",
       "      <td>-79.379817</td>\n",
       "    </tr>\n",
       "    <tr>\n",
       "      <th>17</th>\n",
       "      <td>M4M</td>\n",
       "      <td>East Toronto</td>\n",
       "      <td>Studio District</td>\n",
       "      <td>43.659526</td>\n",
       "      <td>-79.340923</td>\n",
       "    </tr>\n",
       "    <tr>\n",
       "      <th>18</th>\n",
       "      <td>M4N</td>\n",
       "      <td>Central Toronto</td>\n",
       "      <td>Lawrence Park</td>\n",
       "      <td>43.728020</td>\n",
       "      <td>-79.388790</td>\n",
       "    </tr>\n",
       "    <tr>\n",
       "      <th>19</th>\n",
       "      <td>M5N</td>\n",
       "      <td>Central Toronto</td>\n",
       "      <td>Roselawn</td>\n",
       "      <td>43.711695</td>\n",
       "      <td>-79.416936</td>\n",
       "    </tr>\n",
       "    <tr>\n",
       "      <th>20</th>\n",
       "      <td>M4P</td>\n",
       "      <td>Central Toronto</td>\n",
       "      <td>Davisville North</td>\n",
       "      <td>43.712751</td>\n",
       "      <td>-79.390197</td>\n",
       "    </tr>\n",
       "    <tr>\n",
       "      <th>21</th>\n",
       "      <td>M5P</td>\n",
       "      <td>Central Toronto</td>\n",
       "      <td>Forest Hill North &amp; West, Forest Hill Road Park</td>\n",
       "      <td>43.696948</td>\n",
       "      <td>-79.411307</td>\n",
       "    </tr>\n",
       "    <tr>\n",
       "      <th>22</th>\n",
       "      <td>M6P</td>\n",
       "      <td>West Toronto</td>\n",
       "      <td>High Park, The Junction South</td>\n",
       "      <td>43.661608</td>\n",
       "      <td>-79.464763</td>\n",
       "    </tr>\n",
       "    <tr>\n",
       "      <th>23</th>\n",
       "      <td>M4R</td>\n",
       "      <td>Central Toronto</td>\n",
       "      <td>North Toronto West, Lawrence Park</td>\n",
       "      <td>43.715383</td>\n",
       "      <td>-79.405678</td>\n",
       "    </tr>\n",
       "    <tr>\n",
       "      <th>24</th>\n",
       "      <td>M5R</td>\n",
       "      <td>Central Toronto</td>\n",
       "      <td>The Annex, North Midtown, Yorkville</td>\n",
       "      <td>43.672710</td>\n",
       "      <td>-79.405678</td>\n",
       "    </tr>\n",
       "    <tr>\n",
       "      <th>25</th>\n",
       "      <td>M6R</td>\n",
       "      <td>West Toronto</td>\n",
       "      <td>Parkdale, Roncesvalles</td>\n",
       "      <td>43.648960</td>\n",
       "      <td>-79.456325</td>\n",
       "    </tr>\n",
       "    <tr>\n",
       "      <th>26</th>\n",
       "      <td>M4S</td>\n",
       "      <td>Central Toronto</td>\n",
       "      <td>Davisville</td>\n",
       "      <td>43.704324</td>\n",
       "      <td>-79.388790</td>\n",
       "    </tr>\n",
       "    <tr>\n",
       "      <th>27</th>\n",
       "      <td>M5S</td>\n",
       "      <td>Downtown Toronto</td>\n",
       "      <td>University of Toronto, Harbord</td>\n",
       "      <td>43.662696</td>\n",
       "      <td>-79.400049</td>\n",
       "    </tr>\n",
       "    <tr>\n",
       "      <th>28</th>\n",
       "      <td>M6S</td>\n",
       "      <td>West Toronto</td>\n",
       "      <td>Runnymede, Swansea</td>\n",
       "      <td>43.651571</td>\n",
       "      <td>-79.484450</td>\n",
       "    </tr>\n",
       "    <tr>\n",
       "      <th>29</th>\n",
       "      <td>M4T</td>\n",
       "      <td>Central Toronto</td>\n",
       "      <td>Moore Park, Summerhill East</td>\n",
       "      <td>43.689574</td>\n",
       "      <td>-79.383160</td>\n",
       "    </tr>\n",
       "    <tr>\n",
       "      <th>30</th>\n",
       "      <td>M5T</td>\n",
       "      <td>Downtown Toronto</td>\n",
       "      <td>Kensington Market, Chinatown, Grange Park</td>\n",
       "      <td>43.653206</td>\n",
       "      <td>-79.400049</td>\n",
       "    </tr>\n",
       "    <tr>\n",
       "      <th>31</th>\n",
       "      <td>M4V</td>\n",
       "      <td>Central Toronto</td>\n",
       "      <td>Summerhill West, Rathnelly, South Hill, Forest...</td>\n",
       "      <td>43.686412</td>\n",
       "      <td>-79.400049</td>\n",
       "    </tr>\n",
       "    <tr>\n",
       "      <th>32</th>\n",
       "      <td>M5V</td>\n",
       "      <td>Downtown Toronto</td>\n",
       "      <td>CN Tower, King and Spadina, Railway Lands, Har...</td>\n",
       "      <td>43.628947</td>\n",
       "      <td>-79.394420</td>\n",
       "    </tr>\n",
       "    <tr>\n",
       "      <th>33</th>\n",
       "      <td>M4W</td>\n",
       "      <td>Downtown Toronto</td>\n",
       "      <td>Rosedale</td>\n",
       "      <td>43.679563</td>\n",
       "      <td>-79.377529</td>\n",
       "    </tr>\n",
       "    <tr>\n",
       "      <th>34</th>\n",
       "      <td>M5W</td>\n",
       "      <td>Downtown Toronto</td>\n",
       "      <td>Stn A PO Boxes</td>\n",
       "      <td>43.646435</td>\n",
       "      <td>-79.374846</td>\n",
       "    </tr>\n",
       "    <tr>\n",
       "      <th>35</th>\n",
       "      <td>M4X</td>\n",
       "      <td>Downtown Toronto</td>\n",
       "      <td>St. James Town, Cabbagetown</td>\n",
       "      <td>43.667967</td>\n",
       "      <td>-79.367675</td>\n",
       "    </tr>\n",
       "    <tr>\n",
       "      <th>36</th>\n",
       "      <td>M5X</td>\n",
       "      <td>Downtown Toronto</td>\n",
       "      <td>First Canadian Place, Underground city</td>\n",
       "      <td>43.648429</td>\n",
       "      <td>-79.382280</td>\n",
       "    </tr>\n",
       "    <tr>\n",
       "      <th>37</th>\n",
       "      <td>M4Y</td>\n",
       "      <td>Downtown Toronto</td>\n",
       "      <td>Church and Wellesley</td>\n",
       "      <td>43.665860</td>\n",
       "      <td>-79.383160</td>\n",
       "    </tr>\n",
       "    <tr>\n",
       "      <th>38</th>\n",
       "      <td>M7Y</td>\n",
       "      <td>East Toronto</td>\n",
       "      <td>Business reply mail Processing Centre, South C...</td>\n",
       "      <td>43.662744</td>\n",
       "      <td>-79.321558</td>\n",
       "    </tr>\n",
       "  </tbody>\n",
       "</table>\n",
       "</div>"
      ],
      "text/plain": [
       "   Postal Code           Borough  \\\n",
       "0          M5A  Downtown Toronto   \n",
       "1          M7A  Downtown Toronto   \n",
       "2          M5B  Downtown Toronto   \n",
       "3          M5C  Downtown Toronto   \n",
       "4          M4E      East Toronto   \n",
       "5          M5E  Downtown Toronto   \n",
       "6          M5G  Downtown Toronto   \n",
       "7          M6G  Downtown Toronto   \n",
       "8          M5H  Downtown Toronto   \n",
       "9          M6H      West Toronto   \n",
       "10         M5J  Downtown Toronto   \n",
       "11         M6J      West Toronto   \n",
       "12         M4K      East Toronto   \n",
       "13         M5K  Downtown Toronto   \n",
       "14         M6K      West Toronto   \n",
       "15         M4L      East Toronto   \n",
       "16         M5L  Downtown Toronto   \n",
       "17         M4M      East Toronto   \n",
       "18         M4N   Central Toronto   \n",
       "19         M5N   Central Toronto   \n",
       "20         M4P   Central Toronto   \n",
       "21         M5P   Central Toronto   \n",
       "22         M6P      West Toronto   \n",
       "23         M4R   Central Toronto   \n",
       "24         M5R   Central Toronto   \n",
       "25         M6R      West Toronto   \n",
       "26         M4S   Central Toronto   \n",
       "27         M5S  Downtown Toronto   \n",
       "28         M6S      West Toronto   \n",
       "29         M4T   Central Toronto   \n",
       "30         M5T  Downtown Toronto   \n",
       "31         M4V   Central Toronto   \n",
       "32         M5V  Downtown Toronto   \n",
       "33         M4W  Downtown Toronto   \n",
       "34         M5W  Downtown Toronto   \n",
       "35         M4X  Downtown Toronto   \n",
       "36         M5X  Downtown Toronto   \n",
       "37         M4Y  Downtown Toronto   \n",
       "38         M7Y      East Toronto   \n",
       "\n",
       "                                         Neighborhood   Latitude  Longitude  \n",
       "0                           Regent Park, Harbourfront  43.654260 -79.360636  \n",
       "1         Queen's Park, Ontario Provincial Government  43.662301 -79.389494  \n",
       "2                            Garden District, Ryerson  43.657162 -79.378937  \n",
       "3                                      St. James Town  43.651494 -79.375418  \n",
       "4                                         The Beaches  43.676357 -79.293031  \n",
       "5                                         Berczy Park  43.644771 -79.373306  \n",
       "6                                  Central Bay Street  43.657952 -79.387383  \n",
       "7                                            Christie  43.669542 -79.422564  \n",
       "8                            Richmond, Adelaide, King  43.650571 -79.384568  \n",
       "9                        Dufferin, Dovercourt Village  43.669005 -79.442259  \n",
       "10  Harbourfront East, Union Station, Toronto Islands  43.640816 -79.381752  \n",
       "11                           Little Portugal, Trinity  43.647927 -79.419750  \n",
       "12                       The Danforth West, Riverdale  43.679557 -79.352188  \n",
       "13           Toronto Dominion Centre, Design Exchange  43.647177 -79.381576  \n",
       "14       Brockton, Parkdale Village, Exhibition Place  43.636847 -79.428191  \n",
       "15                     India Bazaar, The Beaches West  43.668999 -79.315572  \n",
       "16                     Commerce Court, Victoria Hotel  43.648198 -79.379817  \n",
       "17                                    Studio District  43.659526 -79.340923  \n",
       "18                                      Lawrence Park  43.728020 -79.388790  \n",
       "19                                           Roselawn  43.711695 -79.416936  \n",
       "20                                   Davisville North  43.712751 -79.390197  \n",
       "21    Forest Hill North & West, Forest Hill Road Park  43.696948 -79.411307  \n",
       "22                      High Park, The Junction South  43.661608 -79.464763  \n",
       "23                  North Toronto West, Lawrence Park  43.715383 -79.405678  \n",
       "24                The Annex, North Midtown, Yorkville  43.672710 -79.405678  \n",
       "25                             Parkdale, Roncesvalles  43.648960 -79.456325  \n",
       "26                                         Davisville  43.704324 -79.388790  \n",
       "27                     University of Toronto, Harbord  43.662696 -79.400049  \n",
       "28                                 Runnymede, Swansea  43.651571 -79.484450  \n",
       "29                        Moore Park, Summerhill East  43.689574 -79.383160  \n",
       "30          Kensington Market, Chinatown, Grange Park  43.653206 -79.400049  \n",
       "31  Summerhill West, Rathnelly, South Hill, Forest...  43.686412 -79.400049  \n",
       "32  CN Tower, King and Spadina, Railway Lands, Har...  43.628947 -79.394420  \n",
       "33                                           Rosedale  43.679563 -79.377529  \n",
       "34                                     Stn A PO Boxes  43.646435 -79.374846  \n",
       "35                        St. James Town, Cabbagetown  43.667967 -79.367675  \n",
       "36             First Canadian Place, Underground city  43.648429 -79.382280  \n",
       "37                               Church and Wellesley  43.665860 -79.383160  \n",
       "38  Business reply mail Processing Centre, South C...  43.662744 -79.321558  "
      ]
     },
     "execution_count": 168,
     "metadata": {},
     "output_type": "execute_result"
    }
   ],
   "source": [
    "df_Toronto.reset_index(drop=True)"
   ]
  },
  {
   "cell_type": "markdown",
   "metadata": {},
   "source": [
    "#### Neighbor distribution in Toronto"
   ]
  },
  {
   "cell_type": "code",
   "execution_count": 169,
   "metadata": {
    "scrolled": true
   },
   "outputs": [
    {
     "data": {
      "text/html": [
       "<div style=\"width:100%;\"><div style=\"position:relative;width:100%;height:0;padding-bottom:60%;\"><span style=\"color:#565656\">Make this Notebook Trusted to load map: File -> Trust Notebook</span><iframe src=\"about:blank\" style=\"position:absolute;width:100%;height:100%;left:0;top:0;border:none !important;\" data-html=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 onload=\"this.contentDocument.open();this.contentDocument.write(atob(this.getAttribute('data-html')));this.contentDocument.close();\" allowfullscreen webkitallowfullscreen mozallowfullscreen></iframe></div></div>"
      ],
      "text/plain": [
       "<folium.folium.Map at 0x2315d36ae48>"
      ]
     },
     "execution_count": 169,
     "metadata": {},
     "output_type": "execute_result"
    }
   ],
   "source": [
    "# create map of Toronto using latitude and longitude values\n",
    "\n",
    "map_Toronto = folium.Map(location=[latitude, longitude], zoom_start=11)\n",
    "\n",
    "# add markers to map\n",
    "for lat, lng, label in zip(df_Toronto['Latitude'], df_Toronto['Longitude'], df_Toronto['Neighborhood']):\n",
    "    label = folium.Popup(label, parse_html=True)\n",
    "    folium.CircleMarker(\n",
    "        [lat, lng],\n",
    "        radius=5,\n",
    "        popup=label,\n",
    "        color='blue',\n",
    "        fill=True,\n",
    "        fill_color='#3186cc',\n",
    "        fill_opacity=0.7,\n",
    "        parse_html=False).add_to(map_Toronto)  \n",
    "    \n",
    "map_Toronto"
   ]
  },
  {
   "cell_type": "markdown",
   "metadata": {},
   "source": [
    "### Define Foursquare Credentials and Version"
   ]
  },
  {
   "cell_type": "code",
   "execution_count": 170,
   "metadata": {},
   "outputs": [
    {
     "name": "stdout",
     "output_type": "stream",
     "text": [
      "Your credentails:\n",
      "CLIENT_ID: YFYZIO4DCIHU2MIYEAZ0QP05CKWF4HA3H5KZLXTAGZUQHR3J\n",
      "CLIENT_SECRET:JIPMNLBLVO1TLUUOOXYV5SKVRU3VXAZ3B1IBVZISCEGB342L\n"
     ]
    }
   ],
   "source": [
    "CLIENT_ID = 'YFYZIO4DCIHU2MIYEAZ0QP05CKWF4HA3H5KZLXTAGZUQHR3J' # your Foursquare ID\n",
    "CLIENT_SECRET = 'JIPMNLBLVO1TLUUOOXYV5SKVRU3VXAZ3B1IBVZISCEGB342L' # your Foursquare Secret\n",
    "VERSION = '20180605' # Foursquare API version\n",
    "LIMIT = 100 \n",
    "radius = 500\n",
    "\n",
    "print('Your credentails:')\n",
    "print('CLIENT_ID: ' + CLIENT_ID)\n",
    "print('CLIENT_SECRET:' + CLIENT_SECRET)"
   ]
  },
  {
   "cell_type": "markdown",
   "metadata": {},
   "source": [
    "### Explore Neighborhoods in Toronto"
   ]
  },
  {
   "cell_type": "code",
   "execution_count": 171,
   "metadata": {},
   "outputs": [],
   "source": [
    "def getNearbyVenues(borough,names, latitudes, longitudes, radius=500):\n",
    "    \n",
    "    venues_list=[]\n",
    "    for bor,name, lat, lng in zip(borough,names, latitudes, longitudes):\n",
    "        print(name)\n",
    "            \n",
    "        # create the API request URL\n",
    "        url = 'https://api.foursquare.com/v2/venues/explore?&client_id={}&client_secret={}&v={}&ll={},{}&radius={}&limit={}'.format(\n",
    "            CLIENT_ID, \n",
    "            CLIENT_SECRET, \n",
    "            VERSION, \n",
    "            lat, \n",
    "            lng, \n",
    "            radius, \n",
    "            LIMIT)\n",
    "            \n",
    "        # make the GET request\n",
    "        results = requests.get(url).json()[\"response\"]['groups'][0]['items']\n",
    "        \n",
    "        # return only relevant information for each nearby venue\n",
    "        venues_list.append([(\n",
    "            bor,\n",
    "            name, \n",
    "            lat, \n",
    "            lng, \n",
    "            v['venue']['name'], \n",
    "            v['venue']['location']['lat'], \n",
    "            v['venue']['location']['lng'],  \n",
    "            v['venue']['categories'][0]['name']) for v in results])\n",
    "\n",
    "    nearby_venues = pd.DataFrame([item for venue_list in venues_list for item in venue_list])\n",
    "    nearby_venues.columns = ['Borough',\n",
    "                             'Neighborhood', \n",
    "                  'Neighborhood Latitude', \n",
    "                  'Neighborhood Longitude', \n",
    "                  'Venue', \n",
    "                  'Venue Latitude', \n",
    "                  'Venue Longitude', \n",
    "                  'Venue Category']\n",
    "    \n",
    "    return(nearby_venues)"
   ]
  },
  {
   "cell_type": "code",
   "execution_count": 172,
   "metadata": {},
   "outputs": [
    {
     "name": "stdout",
     "output_type": "stream",
     "text": [
      "Regent Park, Harbourfront\n",
      "Queen's Park, Ontario Provincial Government\n",
      "Garden District, Ryerson\n",
      "St. James Town\n",
      "The Beaches\n",
      "Berczy Park\n",
      "Central Bay Street\n",
      "Christie\n",
      "Richmond, Adelaide, King\n",
      "Dufferin, Dovercourt Village\n",
      "Harbourfront East, Union Station, Toronto Islands\n",
      "Little Portugal, Trinity\n",
      "The Danforth West, Riverdale\n",
      "Toronto Dominion Centre, Design Exchange\n",
      "Brockton, Parkdale Village, Exhibition Place\n",
      "India Bazaar, The Beaches West\n",
      "Commerce Court, Victoria Hotel\n",
      "Studio District\n",
      "Lawrence Park\n",
      "Roselawn\n",
      "Davisville North\n",
      "Forest Hill North & West, Forest Hill Road Park\n",
      "High Park, The Junction South\n",
      "North Toronto West, Lawrence Park\n",
      "The Annex, North Midtown, Yorkville\n",
      "Parkdale, Roncesvalles\n",
      "Davisville\n",
      "University of Toronto, Harbord\n",
      "Runnymede, Swansea\n",
      "Moore Park, Summerhill East\n",
      "Kensington Market, Chinatown, Grange Park\n",
      "Summerhill West, Rathnelly, South Hill, Forest Hill SE, Deer Park\n",
      "CN Tower, King and Spadina, Railway Lands, Harbourfront West, Bathurst Quay, South Niagara, Island airport\n",
      "Rosedale\n",
      "Stn A PO Boxes\n",
      "St. James Town, Cabbagetown\n",
      "First Canadian Place, Underground city\n",
      "Church and Wellesley\n",
      "Business reply mail Processing Centre, South Central Letter Processing Plant Toronto\n"
     ]
    }
   ],
   "source": [
    "# run the above function on each neighborhood and create a new dataframe called Toronto_venues.\n",
    "Toronto_venues = getNearbyVenues(borough=df_Toronto['Borough'],\n",
    "                                 names=df_Toronto['Neighborhood'],\n",
    "                                   latitudes=df_Toronto['Latitude'],\n",
    "                                   longitudes=df_Toronto['Longitude']\n",
    "                                   \n",
    "                                  )"
   ]
  },
  {
   "cell_type": "code",
   "execution_count": 173,
   "metadata": {},
   "outputs": [
    {
     "name": "stdout",
     "output_type": "stream",
     "text": [
      "(1647, 8)\n"
     ]
    },
    {
     "data": {
      "text/html": [
       "<div>\n",
       "<style scoped>\n",
       "    .dataframe tbody tr th:only-of-type {\n",
       "        vertical-align: middle;\n",
       "    }\n",
       "\n",
       "    .dataframe tbody tr th {\n",
       "        vertical-align: top;\n",
       "    }\n",
       "\n",
       "    .dataframe thead th {\n",
       "        text-align: right;\n",
       "    }\n",
       "</style>\n",
       "<table border=\"1\" class=\"dataframe\">\n",
       "  <thead>\n",
       "    <tr style=\"text-align: right;\">\n",
       "      <th></th>\n",
       "      <th>Borough</th>\n",
       "      <th>Neighborhood</th>\n",
       "      <th>Neighborhood Latitude</th>\n",
       "      <th>Neighborhood Longitude</th>\n",
       "      <th>Venue</th>\n",
       "      <th>Venue Latitude</th>\n",
       "      <th>Venue Longitude</th>\n",
       "      <th>Venue Category</th>\n",
       "    </tr>\n",
       "  </thead>\n",
       "  <tbody>\n",
       "    <tr>\n",
       "      <th>0</th>\n",
       "      <td>Downtown Toronto</td>\n",
       "      <td>Regent Park, Harbourfront</td>\n",
       "      <td>43.65426</td>\n",
       "      <td>-79.360636</td>\n",
       "      <td>Roselle Desserts</td>\n",
       "      <td>43.653447</td>\n",
       "      <td>-79.362017</td>\n",
       "      <td>Bakery</td>\n",
       "    </tr>\n",
       "    <tr>\n",
       "      <th>1</th>\n",
       "      <td>Downtown Toronto</td>\n",
       "      <td>Regent Park, Harbourfront</td>\n",
       "      <td>43.65426</td>\n",
       "      <td>-79.360636</td>\n",
       "      <td>Tandem Coffee</td>\n",
       "      <td>43.653559</td>\n",
       "      <td>-79.361809</td>\n",
       "      <td>Coffee Shop</td>\n",
       "    </tr>\n",
       "    <tr>\n",
       "      <th>2</th>\n",
       "      <td>Downtown Toronto</td>\n",
       "      <td>Regent Park, Harbourfront</td>\n",
       "      <td>43.65426</td>\n",
       "      <td>-79.360636</td>\n",
       "      <td>Cooper Koo Family YMCA</td>\n",
       "      <td>43.653249</td>\n",
       "      <td>-79.358008</td>\n",
       "      <td>Distribution Center</td>\n",
       "    </tr>\n",
       "    <tr>\n",
       "      <th>3</th>\n",
       "      <td>Downtown Toronto</td>\n",
       "      <td>Regent Park, Harbourfront</td>\n",
       "      <td>43.65426</td>\n",
       "      <td>-79.360636</td>\n",
       "      <td>Body Blitz Spa East</td>\n",
       "      <td>43.654735</td>\n",
       "      <td>-79.359874</td>\n",
       "      <td>Spa</td>\n",
       "    </tr>\n",
       "    <tr>\n",
       "      <th>4</th>\n",
       "      <td>Downtown Toronto</td>\n",
       "      <td>Regent Park, Harbourfront</td>\n",
       "      <td>43.65426</td>\n",
       "      <td>-79.360636</td>\n",
       "      <td>Impact Kitchen</td>\n",
       "      <td>43.656369</td>\n",
       "      <td>-79.356980</td>\n",
       "      <td>Restaurant</td>\n",
       "    </tr>\n",
       "  </tbody>\n",
       "</table>\n",
       "</div>"
      ],
      "text/plain": [
       "            Borough               Neighborhood  Neighborhood Latitude  \\\n",
       "0  Downtown Toronto  Regent Park, Harbourfront               43.65426   \n",
       "1  Downtown Toronto  Regent Park, Harbourfront               43.65426   \n",
       "2  Downtown Toronto  Regent Park, Harbourfront               43.65426   \n",
       "3  Downtown Toronto  Regent Park, Harbourfront               43.65426   \n",
       "4  Downtown Toronto  Regent Park, Harbourfront               43.65426   \n",
       "\n",
       "   Neighborhood Longitude                   Venue  Venue Latitude  \\\n",
       "0              -79.360636        Roselle Desserts       43.653447   \n",
       "1              -79.360636           Tandem Coffee       43.653559   \n",
       "2              -79.360636  Cooper Koo Family YMCA       43.653249   \n",
       "3              -79.360636     Body Blitz Spa East       43.654735   \n",
       "4              -79.360636          Impact Kitchen       43.656369   \n",
       "\n",
       "   Venue Longitude       Venue Category  \n",
       "0       -79.362017               Bakery  \n",
       "1       -79.361809          Coffee Shop  \n",
       "2       -79.358008  Distribution Center  \n",
       "3       -79.359874                  Spa  \n",
       "4       -79.356980           Restaurant  "
      ]
     },
     "execution_count": 173,
     "metadata": {},
     "output_type": "execute_result"
    }
   ],
   "source": [
    "print(Toronto_venues.shape)\n",
    "Toronto_venues.head()"
   ]
  },
  {
   "cell_type": "code",
   "execution_count": 174,
   "metadata": {
    "scrolled": true
   },
   "outputs": [
    {
     "data": {
      "text/html": [
       "<div>\n",
       "<style scoped>\n",
       "    .dataframe tbody tr th:only-of-type {\n",
       "        vertical-align: middle;\n",
       "    }\n",
       "\n",
       "    .dataframe tbody tr th {\n",
       "        vertical-align: top;\n",
       "    }\n",
       "\n",
       "    .dataframe thead th {\n",
       "        text-align: right;\n",
       "    }\n",
       "</style>\n",
       "<table border=\"1\" class=\"dataframe\">\n",
       "  <thead>\n",
       "    <tr style=\"text-align: right;\">\n",
       "      <th></th>\n",
       "      <th>Borough</th>\n",
       "      <th>Neighborhood</th>\n",
       "      <th>Neighborhood Latitude</th>\n",
       "      <th>Neighborhood Longitude</th>\n",
       "      <th>Venue</th>\n",
       "      <th>Venue Latitude</th>\n",
       "      <th>Venue Longitude</th>\n",
       "    </tr>\n",
       "    <tr>\n",
       "      <th>Venue Category</th>\n",
       "      <th></th>\n",
       "      <th></th>\n",
       "      <th></th>\n",
       "      <th></th>\n",
       "      <th></th>\n",
       "      <th></th>\n",
       "      <th></th>\n",
       "    </tr>\n",
       "  </thead>\n",
       "  <tbody>\n",
       "    <tr>\n",
       "      <th>Coffee Shop</th>\n",
       "      <td>155</td>\n",
       "      <td>155</td>\n",
       "      <td>155</td>\n",
       "      <td>155</td>\n",
       "      <td>155</td>\n",
       "      <td>155</td>\n",
       "      <td>155</td>\n",
       "    </tr>\n",
       "    <tr>\n",
       "      <th>Café</th>\n",
       "      <td>92</td>\n",
       "      <td>92</td>\n",
       "      <td>92</td>\n",
       "      <td>92</td>\n",
       "      <td>92</td>\n",
       "      <td>92</td>\n",
       "      <td>92</td>\n",
       "    </tr>\n",
       "    <tr>\n",
       "      <th>Restaurant</th>\n",
       "      <td>54</td>\n",
       "      <td>54</td>\n",
       "      <td>54</td>\n",
       "      <td>54</td>\n",
       "      <td>54</td>\n",
       "      <td>54</td>\n",
       "      <td>54</td>\n",
       "    </tr>\n",
       "    <tr>\n",
       "      <th>Italian Restaurant</th>\n",
       "      <td>38</td>\n",
       "      <td>38</td>\n",
       "      <td>38</td>\n",
       "      <td>38</td>\n",
       "      <td>38</td>\n",
       "      <td>38</td>\n",
       "      <td>38</td>\n",
       "    </tr>\n",
       "    <tr>\n",
       "      <th>Hotel</th>\n",
       "      <td>38</td>\n",
       "      <td>38</td>\n",
       "      <td>38</td>\n",
       "      <td>38</td>\n",
       "      <td>38</td>\n",
       "      <td>38</td>\n",
       "      <td>38</td>\n",
       "    </tr>\n",
       "    <tr>\n",
       "      <th>...</th>\n",
       "      <td>...</td>\n",
       "      <td>...</td>\n",
       "      <td>...</td>\n",
       "      <td>...</td>\n",
       "      <td>...</td>\n",
       "      <td>...</td>\n",
       "      <td>...</td>\n",
       "    </tr>\n",
       "    <tr>\n",
       "      <th>Garden Center</th>\n",
       "      <td>1</td>\n",
       "      <td>1</td>\n",
       "      <td>1</td>\n",
       "      <td>1</td>\n",
       "      <td>1</td>\n",
       "      <td>1</td>\n",
       "      <td>1</td>\n",
       "    </tr>\n",
       "    <tr>\n",
       "      <th>Fruit &amp; Vegetable Store</th>\n",
       "      <td>1</td>\n",
       "      <td>1</td>\n",
       "      <td>1</td>\n",
       "      <td>1</td>\n",
       "      <td>1</td>\n",
       "      <td>1</td>\n",
       "      <td>1</td>\n",
       "    </tr>\n",
       "    <tr>\n",
       "      <th>Frozen Yogurt Shop</th>\n",
       "      <td>1</td>\n",
       "      <td>1</td>\n",
       "      <td>1</td>\n",
       "      <td>1</td>\n",
       "      <td>1</td>\n",
       "      <td>1</td>\n",
       "      <td>1</td>\n",
       "    </tr>\n",
       "    <tr>\n",
       "      <th>Flea Market</th>\n",
       "      <td>1</td>\n",
       "      <td>1</td>\n",
       "      <td>1</td>\n",
       "      <td>1</td>\n",
       "      <td>1</td>\n",
       "      <td>1</td>\n",
       "      <td>1</td>\n",
       "    </tr>\n",
       "    <tr>\n",
       "      <th>Harbor / Marina</th>\n",
       "      <td>1</td>\n",
       "      <td>1</td>\n",
       "      <td>1</td>\n",
       "      <td>1</td>\n",
       "      <td>1</td>\n",
       "      <td>1</td>\n",
       "      <td>1</td>\n",
       "    </tr>\n",
       "  </tbody>\n",
       "</table>\n",
       "<p>234 rows × 7 columns</p>\n",
       "</div>"
      ],
      "text/plain": [
       "                         Borough  Neighborhood  Neighborhood Latitude  \\\n",
       "Venue Category                                                          \n",
       "Coffee Shop                  155           155                    155   \n",
       "Café                          92            92                     92   \n",
       "Restaurant                    54            54                     54   \n",
       "Italian Restaurant            38            38                     38   \n",
       "Hotel                         38            38                     38   \n",
       "...                          ...           ...                    ...   \n",
       "Garden Center                  1             1                      1   \n",
       "Fruit & Vegetable Store        1             1                      1   \n",
       "Frozen Yogurt Shop             1             1                      1   \n",
       "Flea Market                    1             1                      1   \n",
       "Harbor / Marina                1             1                      1   \n",
       "\n",
       "                         Neighborhood Longitude  Venue  Venue Latitude  \\\n",
       "Venue Category                                                           \n",
       "Coffee Shop                                 155    155             155   \n",
       "Café                                         92     92              92   \n",
       "Restaurant                                   54     54              54   \n",
       "Italian Restaurant                           38     38              38   \n",
       "Hotel                                        38     38              38   \n",
       "...                                         ...    ...             ...   \n",
       "Garden Center                                 1      1               1   \n",
       "Fruit & Vegetable Store                       1      1               1   \n",
       "Frozen Yogurt Shop                            1      1               1   \n",
       "Flea Market                                   1      1               1   \n",
       "Harbor / Marina                               1      1               1   \n",
       "\n",
       "                         Venue Longitude  \n",
       "Venue Category                            \n",
       "Coffee Shop                          155  \n",
       "Café                                  92  \n",
       "Restaurant                            54  \n",
       "Italian Restaurant                    38  \n",
       "Hotel                                 38  \n",
       "...                                  ...  \n",
       "Garden Center                          1  \n",
       "Fruit & Vegetable Store                1  \n",
       "Frozen Yogurt Shop                     1  \n",
       "Flea Market                            1  \n",
       "Harbor / Marina                        1  \n",
       "\n",
       "[234 rows x 7 columns]"
      ]
     },
     "execution_count": 174,
     "metadata": {},
     "output_type": "execute_result"
    }
   ],
   "source": [
    "Toronto_venues.groupby(\"Venue Category\").count().sort_values(by=\"Neighborhood\",ascending=False)"
   ]
  },
  {
   "cell_type": "markdown",
   "metadata": {},
   "source": [
    "### filter out coffee shop"
   ]
  },
  {
   "cell_type": "code",
   "execution_count": 175,
   "metadata": {},
   "outputs": [
    {
     "data": {
      "text/plain": [
       "(155, 7)"
      ]
     },
     "execution_count": 175,
     "metadata": {},
     "output_type": "execute_result"
    }
   ],
   "source": [
    "Toronto_coffee=Toronto_venues[Toronto_venues['Venue Category']==\"Coffee Shop\"]\n",
    "Toronto_coffee.drop(\"Venue Category\",axis=1,inplace=True)\n",
    "Toronto_coffee.shape"
   ]
  },
  {
   "cell_type": "markdown",
   "metadata": {},
   "source": [
    "### Check how many coffee shop brands"
   ]
  },
  {
   "cell_type": "code",
   "execution_count": 176,
   "metadata": {},
   "outputs": [
    {
     "data": {
      "text/plain": [
       "Starbucks                            53\n",
       "Tim Hortons                          25\n",
       "Pilot Coffee Roasters                10\n",
       "Dineen @CommerceCourt                 5\n",
       "Balzac's Coffee                       4\n",
       "M Square Coffee Co                    4\n",
       "Everyday Gourmet (Teas & Coffees)     3\n",
       "Second Cup                            3\n",
       "Bulldog On The Block                  3\n",
       "Dark Horse Espresso Bar               2\n",
       "Versus Coffee                         2\n",
       "Jimmy's Coffee                        2\n",
       "Hailed Coffee                         2\n",
       "Neo Coffee Bar                        2\n",
       "Aroma Espresso Bar                    2\n",
       "Mos Mos                               2\n",
       "Cafe Frappe                           1\n",
       "Tandem Coffee                         1\n",
       "Tokyo Smoke                           1\n",
       "I Deal Coffee                         1\n",
       "Rooster Coffee House                  1\n",
       "Arvo                                  1\n",
       "Balzac’s Coffee Roasters              1\n",
       "Little Pebbles                        1\n",
       "Sumach Espresso                       1\n",
       "Lavazza Espression                    1\n",
       "HotBlack Coffee                       1\n",
       "Coffee Public                         1\n",
       "Creeds Coffee Bar                     1\n",
       "Wibke's Espresso Bar                  1\n",
       "Piedmont Coffee Bar                   1\n",
       "Savoury Grounds                       1\n",
       "The Library Specialty Coffee          1\n",
       "Fahrenheit Coffee                     1\n",
       "Reunion Island Coffee Bar             1\n",
       "Marvel Coffee Co.                     1\n",
       "The Drink                             1\n",
       "Mercury Espresso Bar                  1\n",
       "Jetfuel Coffee                        1\n",
       "Rooster Coffee                        1\n",
       "Louie Craft Coffee                    1\n",
       "Sam James Coffee Bar (SJCB)           1\n",
       "The Tampered Press                    1\n",
       "Te Aro                                1\n",
       "The Coffee Bouquets                   1\n",
       "Country Style                         1\n",
       "Croissant Tree                        1\n",
       "Name: Venue, dtype: int64"
      ]
     },
     "execution_count": 176,
     "metadata": {},
     "output_type": "execute_result"
    }
   ],
   "source": [
    "Toronto_coffee['Venue'].value_counts()"
   ]
  },
  {
   "cell_type": "code",
   "execution_count": 177,
   "metadata": {},
   "outputs": [
    {
     "data": {
      "text/plain": [
       "(102, 7)"
      ]
     },
     "execution_count": 177,
     "metadata": {},
     "output_type": "execute_result"
    }
   ],
   "source": [
    "# We want to avoid to open my coffee shop near Starbucks\n",
    "Toronto_target=Toronto_coffee[Toronto_coffee['Venue']!=\"Starbucks\"]\n",
    "Toronto_target.shape"
   ]
  },
  {
   "cell_type": "code",
   "execution_count": 178,
   "metadata": {
    "scrolled": false
   },
   "outputs": [
    {
     "data": {
      "text/plain": [
       "count                  102\n",
       "unique                   4\n",
       "top       Downtown Toronto\n",
       "freq                    84\n",
       "Name: Borough, dtype: object"
      ]
     },
     "execution_count": 178,
     "metadata": {},
     "output_type": "execute_result"
    }
   ],
   "source": [
    "Toronto_target['Borough'].describe()"
   ]
  },
  {
   "cell_type": "markdown",
   "metadata": {},
   "source": [
    "### Cluster Neighborhoods"
   ]
  },
  {
   "cell_type": "code",
   "execution_count": 179,
   "metadata": {},
   "outputs": [
    {
     "data": {
      "text/html": [
       "<div>\n",
       "<style scoped>\n",
       "    .dataframe tbody tr th:only-of-type {\n",
       "        vertical-align: middle;\n",
       "    }\n",
       "\n",
       "    .dataframe tbody tr th {\n",
       "        vertical-align: top;\n",
       "    }\n",
       "\n",
       "    .dataframe thead th {\n",
       "        text-align: right;\n",
       "    }\n",
       "</style>\n",
       "<table border=\"1\" class=\"dataframe\">\n",
       "  <thead>\n",
       "    <tr style=\"text-align: right;\">\n",
       "      <th></th>\n",
       "      <th>Venue Latitude</th>\n",
       "      <th>Venue Longitude</th>\n",
       "    </tr>\n",
       "  </thead>\n",
       "  <tbody>\n",
       "    <tr>\n",
       "      <th>1</th>\n",
       "      <td>43.653559</td>\n",
       "      <td>-79.361809</td>\n",
       "    </tr>\n",
       "    <tr>\n",
       "      <th>13</th>\n",
       "      <td>43.658135</td>\n",
       "      <td>-79.359515</td>\n",
       "    </tr>\n",
       "    <tr>\n",
       "      <th>14</th>\n",
       "      <td>43.651900</td>\n",
       "      <td>-79.365609</td>\n",
       "    </tr>\n",
       "    <tr>\n",
       "      <th>16</th>\n",
       "      <td>43.649963</td>\n",
       "      <td>-79.361442</td>\n",
       "    </tr>\n",
       "    <tr>\n",
       "      <th>35</th>\n",
       "      <td>43.653081</td>\n",
       "      <td>-79.357078</td>\n",
       "    </tr>\n",
       "    <tr>\n",
       "      <th>...</th>\n",
       "      <td>...</td>\n",
       "      <td>...</td>\n",
       "    </tr>\n",
       "    <tr>\n",
       "      <th>1544</th>\n",
       "      <td>43.644373</td>\n",
       "      <td>-79.383065</td>\n",
       "    </tr>\n",
       "    <tr>\n",
       "      <th>1576</th>\n",
       "      <td>43.668286</td>\n",
       "      <td>-79.382520</td>\n",
       "    </tr>\n",
       "    <tr>\n",
       "      <th>1593</th>\n",
       "      <td>43.669654</td>\n",
       "      <td>-79.379871</td>\n",
       "    </tr>\n",
       "    <tr>\n",
       "      <th>1620</th>\n",
       "      <td>43.664167</td>\n",
       "      <td>-79.380149</td>\n",
       "    </tr>\n",
       "    <tr>\n",
       "      <th>1625</th>\n",
       "      <td>43.669575</td>\n",
       "      <td>-79.382331</td>\n",
       "    </tr>\n",
       "  </tbody>\n",
       "</table>\n",
       "<p>102 rows × 2 columns</p>\n",
       "</div>"
      ],
      "text/plain": [
       "      Venue Latitude  Venue Longitude\n",
       "1          43.653559       -79.361809\n",
       "13         43.658135       -79.359515\n",
       "14         43.651900       -79.365609\n",
       "16         43.649963       -79.361442\n",
       "35         43.653081       -79.357078\n",
       "...              ...              ...\n",
       "1544       43.644373       -79.383065\n",
       "1576       43.668286       -79.382520\n",
       "1593       43.669654       -79.379871\n",
       "1620       43.664167       -79.380149\n",
       "1625       43.669575       -79.382331\n",
       "\n",
       "[102 rows x 2 columns]"
      ]
     },
     "execution_count": 179,
     "metadata": {},
     "output_type": "execute_result"
    }
   ],
   "source": [
    "# Run k-means to cluster the existing coffee shop into 5 clusters.\n",
    "kclusters = 5\n",
    "\n",
    "Toronto_grouped_clustering = Toronto_target.drop(['Borough','Neighborhood','Neighborhood Latitude','Neighborhood Longitude','Venue'], 1)\n",
    "\n",
    "Toronto_grouped_clustering\n",
    "\n",
    " "
   ]
  },
  {
   "cell_type": "code",
   "execution_count": 180,
   "metadata": {},
   "outputs": [
    {
     "data": {
      "text/plain": [
       "array([4, 4, 4, 4, 4, 4, 1, 0, 1, 1])"
      ]
     },
     "execution_count": 180,
     "metadata": {},
     "output_type": "execute_result"
    }
   ],
   "source": [
    "# run k-means clustering\n",
    "kmeans = KMeans(n_clusters=kclusters, random_state=0).fit(Toronto_grouped_clustering)\n",
    "\n",
    "# check cluster labels generated for each row in the dataframe\n",
    "kmeans.labels_[0:10]"
   ]
  },
  {
   "cell_type": "code",
   "execution_count": 181,
   "metadata": {
    "scrolled": true
   },
   "outputs": [
    {
     "data": {
      "text/html": [
       "<div>\n",
       "<style scoped>\n",
       "    .dataframe tbody tr th:only-of-type {\n",
       "        vertical-align: middle;\n",
       "    }\n",
       "\n",
       "    .dataframe tbody tr th {\n",
       "        vertical-align: top;\n",
       "    }\n",
       "\n",
       "    .dataframe thead th {\n",
       "        text-align: right;\n",
       "    }\n",
       "</style>\n",
       "<table border=\"1\" class=\"dataframe\">\n",
       "  <thead>\n",
       "    <tr style=\"text-align: right;\">\n",
       "      <th></th>\n",
       "      <th>Borough</th>\n",
       "      <th>Neighborhood</th>\n",
       "      <th>Neighborhood Latitude</th>\n",
       "      <th>Neighborhood Longitude</th>\n",
       "      <th>Venue</th>\n",
       "      <th>Venue Latitude</th>\n",
       "      <th>Cluster Labels</th>\n",
       "      <th>Venue Longitude</th>\n",
       "    </tr>\n",
       "  </thead>\n",
       "  <tbody>\n",
       "    <tr>\n",
       "      <th>0</th>\n",
       "      <td>Downtown Toronto</td>\n",
       "      <td>Regent Park, Harbourfront</td>\n",
       "      <td>43.654260</td>\n",
       "      <td>-79.360636</td>\n",
       "      <td>Tandem Coffee</td>\n",
       "      <td>43.653559</td>\n",
       "      <td>4</td>\n",
       "      <td>-79.361809</td>\n",
       "    </tr>\n",
       "    <tr>\n",
       "      <th>1</th>\n",
       "      <td>Downtown Toronto</td>\n",
       "      <td>Regent Park, Harbourfront</td>\n",
       "      <td>43.654260</td>\n",
       "      <td>-79.360636</td>\n",
       "      <td>Sumach Espresso</td>\n",
       "      <td>43.658135</td>\n",
       "      <td>4</td>\n",
       "      <td>-79.359515</td>\n",
       "    </tr>\n",
       "    <tr>\n",
       "      <th>2</th>\n",
       "      <td>Downtown Toronto</td>\n",
       "      <td>Regent Park, Harbourfront</td>\n",
       "      <td>43.654260</td>\n",
       "      <td>-79.360636</td>\n",
       "      <td>Rooster Coffee</td>\n",
       "      <td>43.651900</td>\n",
       "      <td>4</td>\n",
       "      <td>-79.365609</td>\n",
       "    </tr>\n",
       "    <tr>\n",
       "      <th>3</th>\n",
       "      <td>Downtown Toronto</td>\n",
       "      <td>Regent Park, Harbourfront</td>\n",
       "      <td>43.654260</td>\n",
       "      <td>-79.360636</td>\n",
       "      <td>Arvo</td>\n",
       "      <td>43.649963</td>\n",
       "      <td>4</td>\n",
       "      <td>-79.361442</td>\n",
       "    </tr>\n",
       "    <tr>\n",
       "      <th>4</th>\n",
       "      <td>Downtown Toronto</td>\n",
       "      <td>Regent Park, Harbourfront</td>\n",
       "      <td>43.654260</td>\n",
       "      <td>-79.360636</td>\n",
       "      <td>Dark Horse Espresso Bar</td>\n",
       "      <td>43.653081</td>\n",
       "      <td>4</td>\n",
       "      <td>-79.357078</td>\n",
       "    </tr>\n",
       "    <tr>\n",
       "      <th>...</th>\n",
       "      <td>...</td>\n",
       "      <td>...</td>\n",
       "      <td>...</td>\n",
       "      <td>...</td>\n",
       "      <td>...</td>\n",
       "      <td>...</td>\n",
       "      <td>...</td>\n",
       "      <td>...</td>\n",
       "    </tr>\n",
       "    <tr>\n",
       "      <th>97</th>\n",
       "      <td>Downtown Toronto</td>\n",
       "      <td>First Canadian Place, Underground city</td>\n",
       "      <td>43.648429</td>\n",
       "      <td>-79.382280</td>\n",
       "      <td>Balzac's Coffee</td>\n",
       "      <td>43.644373</td>\n",
       "      <td>1</td>\n",
       "      <td>-79.383065</td>\n",
       "    </tr>\n",
       "    <tr>\n",
       "      <th>98</th>\n",
       "      <td>Downtown Toronto</td>\n",
       "      <td>Church and Wellesley</td>\n",
       "      <td>43.665860</td>\n",
       "      <td>-79.383160</td>\n",
       "      <td>Piedmont Coffee Bar</td>\n",
       "      <td>43.668286</td>\n",
       "      <td>1</td>\n",
       "      <td>-79.382520</td>\n",
       "    </tr>\n",
       "    <tr>\n",
       "      <th>99</th>\n",
       "      <td>Downtown Toronto</td>\n",
       "      <td>Church and Wellesley</td>\n",
       "      <td>43.665860</td>\n",
       "      <td>-79.383160</td>\n",
       "      <td>Rooster Coffee House</td>\n",
       "      <td>43.669654</td>\n",
       "      <td>1</td>\n",
       "      <td>-79.379871</td>\n",
       "    </tr>\n",
       "    <tr>\n",
       "      <th>100</th>\n",
       "      <td>Downtown Toronto</td>\n",
       "      <td>Church and Wellesley</td>\n",
       "      <td>43.665860</td>\n",
       "      <td>-79.383160</td>\n",
       "      <td>The Drink</td>\n",
       "      <td>43.664167</td>\n",
       "      <td>1</td>\n",
       "      <td>-79.380149</td>\n",
       "    </tr>\n",
       "    <tr>\n",
       "      <th>101</th>\n",
       "      <td>Downtown Toronto</td>\n",
       "      <td>Church and Wellesley</td>\n",
       "      <td>43.665860</td>\n",
       "      <td>-79.383160</td>\n",
       "      <td>Croissant Tree</td>\n",
       "      <td>43.669575</td>\n",
       "      <td>1</td>\n",
       "      <td>-79.382331</td>\n",
       "    </tr>\n",
       "  </tbody>\n",
       "</table>\n",
       "<p>102 rows × 8 columns</p>\n",
       "</div>"
      ],
      "text/plain": [
       "              Borough                            Neighborhood  \\\n",
       "0    Downtown Toronto               Regent Park, Harbourfront   \n",
       "1    Downtown Toronto               Regent Park, Harbourfront   \n",
       "2    Downtown Toronto               Regent Park, Harbourfront   \n",
       "3    Downtown Toronto               Regent Park, Harbourfront   \n",
       "4    Downtown Toronto               Regent Park, Harbourfront   \n",
       "..                ...                                     ...   \n",
       "97   Downtown Toronto  First Canadian Place, Underground city   \n",
       "98   Downtown Toronto                    Church and Wellesley   \n",
       "99   Downtown Toronto                    Church and Wellesley   \n",
       "100  Downtown Toronto                    Church and Wellesley   \n",
       "101  Downtown Toronto                    Church and Wellesley   \n",
       "\n",
       "     Neighborhood Latitude  Neighborhood Longitude                    Venue  \\\n",
       "0                43.654260              -79.360636            Tandem Coffee   \n",
       "1                43.654260              -79.360636          Sumach Espresso   \n",
       "2                43.654260              -79.360636           Rooster Coffee   \n",
       "3                43.654260              -79.360636                     Arvo   \n",
       "4                43.654260              -79.360636  Dark Horse Espresso Bar   \n",
       "..                     ...                     ...                      ...   \n",
       "97               43.648429              -79.382280          Balzac's Coffee   \n",
       "98               43.665860              -79.383160      Piedmont Coffee Bar   \n",
       "99               43.665860              -79.383160     Rooster Coffee House   \n",
       "100              43.665860              -79.383160                The Drink   \n",
       "101              43.665860              -79.383160           Croissant Tree   \n",
       "\n",
       "     Venue Latitude  Cluster Labels  Venue Longitude  \n",
       "0         43.653559               4       -79.361809  \n",
       "1         43.658135               4       -79.359515  \n",
       "2         43.651900               4       -79.365609  \n",
       "3         43.649963               4       -79.361442  \n",
       "4         43.653081               4       -79.357078  \n",
       "..              ...             ...              ...  \n",
       "97        43.644373               1       -79.383065  \n",
       "98        43.668286               1       -79.382520  \n",
       "99        43.669654               1       -79.379871  \n",
       "100       43.664167               1       -79.380149  \n",
       "101       43.669575               1       -79.382331  \n",
       "\n",
       "[102 rows x 8 columns]"
      ]
     },
     "execution_count": 181,
     "metadata": {},
     "output_type": "execute_result"
    }
   ],
   "source": [
    "Toronto_target.insert(6,'Cluster Labels', kmeans.labels_)\n",
    "Toronto_target.reset_index(drop=True)"
   ]
  },
  {
   "cell_type": "code",
   "execution_count": 182,
   "metadata": {
    "scrolled": true
   },
   "outputs": [
    {
     "data": {
      "text/html": [
       "<div style=\"width:100%;\"><div style=\"position:relative;width:100%;height:0;padding-bottom:60%;\"><span style=\"color:#565656\">Make this Notebook Trusted to load map: File -> Trust Notebook</span><iframe src=\"about:blank\" style=\"position:absolute;width:100%;height:100%;left:0;top:0;border:none !important;\" data-html=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 onload=\"this.contentDocument.open();this.contentDocument.write(atob(this.getAttribute('data-html')));this.contentDocument.close();\" allowfullscreen webkitallowfullscreen mozallowfullscreen></iframe></div></div>"
      ],
      "text/plain": [
       "<folium.folium.Map at 0x2315d97bba8>"
      ]
     },
     "execution_count": 182,
     "metadata": {},
     "output_type": "execute_result"
    }
   ],
   "source": [
    "# create map\n",
    "map_clusters = folium.Map(location=[latitude, longitude], zoom_start=11)\n",
    "\n",
    "# set color scheme for the clusters\n",
    "x = np.arange(kclusters)\n",
    "ys = [i + x + (i*x)**2 for i in range(kclusters)]\n",
    "colors_array = cm.rainbow(np.linspace(0, 1, len(ys)))\n",
    "rainbow = [colors.rgb2hex(i) for i in colors_array]\n",
    "\n",
    "# add markers to the map\n",
    "markers_colors = []\n",
    "for lat, lon, poi, cluster in zip(Toronto_target['Venue Latitude'], Toronto_target['Venue Longitude'],Toronto_target['Venue'], Toronto_target['Cluster Labels']):\n",
    "    label = folium.Popup(str(poi) + ' Cluster ' + str(cluster), parse_html=True)\n",
    "    folium.CircleMarker(\n",
    "        [lat, lon],\n",
    "        radius=5,\n",
    "        popup=label,\n",
    "        color=rainbow[cluster-1],\n",
    "        fill=True,\n",
    "        fill_color=rainbow[cluster-1],\n",
    "        fill_opacity=0.7).add_to(map_clusters)\n",
    "       \n",
    "map_clusters"
   ]
  },
  {
   "cell_type": "markdown",
   "metadata": {},
   "source": [
    "# Examine Clusters"
   ]
  },
  {
   "cell_type": "markdown",
   "metadata": {},
   "source": [
    "#### Cluster 1:"
   ]
  },
  {
   "cell_type": "code",
   "execution_count": 183,
   "metadata": {
    "scrolled": true
   },
   "outputs": [
    {
     "data": {
      "text/plain": [
       "(11, 8)"
      ]
     },
     "execution_count": 183,
     "metadata": {},
     "output_type": "execute_result"
    }
   ],
   "source": [
    "Cluster1=Toronto_target.loc[Toronto_target['Cluster Labels'] == 0]\n",
    "Cluster1.shape"
   ]
  },
  {
   "cell_type": "markdown",
   "metadata": {},
   "source": [
    "#### Cluster 2:"
   ]
  },
  {
   "cell_type": "code",
   "execution_count": 184,
   "metadata": {},
   "outputs": [
    {
     "data": {
      "text/plain": [
       "(70, 8)"
      ]
     },
     "execution_count": 184,
     "metadata": {},
     "output_type": "execute_result"
    }
   ],
   "source": [
    "Cluster2=Toronto_target.loc[Toronto_target['Cluster Labels'] == 1]\n",
    "Cluster2.shape"
   ]
  },
  {
   "cell_type": "markdown",
   "metadata": {},
   "source": [
    "#### Cluster 3: "
   ]
  },
  {
   "cell_type": "code",
   "execution_count": 185,
   "metadata": {},
   "outputs": [
    {
     "data": {
      "text/plain": [
       "(4, 8)"
      ]
     },
     "execution_count": 185,
     "metadata": {},
     "output_type": "execute_result"
    }
   ],
   "source": [
    "Cluster3=Toronto_target.loc[Toronto_target['Cluster Labels'] == 2]\n",
    "Cluster3.shape"
   ]
  },
  {
   "cell_type": "markdown",
   "metadata": {},
   "source": [
    "#### Cluster 4:"
   ]
  },
  {
   "cell_type": "code",
   "execution_count": 186,
   "metadata": {},
   "outputs": [
    {
     "data": {
      "text/plain": [
       "(3, 8)"
      ]
     },
     "execution_count": 186,
     "metadata": {},
     "output_type": "execute_result"
    }
   ],
   "source": [
    "Cluster4=Toronto_target.loc[Toronto_target['Cluster Labels'] == 3]\n",
    "Cluster4.shape"
   ]
  },
  {
   "cell_type": "markdown",
   "metadata": {},
   "source": [
    "#### Cluster 5"
   ]
  },
  {
   "cell_type": "code",
   "execution_count": 187,
   "metadata": {},
   "outputs": [
    {
     "data": {
      "text/plain": [
       "(14, 8)"
      ]
     },
     "execution_count": 187,
     "metadata": {},
     "output_type": "execute_result"
    }
   ],
   "source": [
    "Cluster5=Toronto_target.loc[Toronto_target['Cluster Labels'] == 4]\n",
    "Cluster5 .shape"
   ]
  },
  {
   "cell_type": "markdown",
   "metadata": {},
   "source": [
    "### Find out the Neighborhood of cluster1"
   ]
  },
  {
   "cell_type": "code",
   "execution_count": 188,
   "metadata": {},
   "outputs": [
    {
     "data": {
      "text/plain": [
       "array(['Downtown Toronto'], dtype=object)"
      ]
     },
     "execution_count": 188,
     "metadata": {},
     "output_type": "execute_result"
    }
   ],
   "source": [
    "Cluster2['Borough'].unique()"
   ]
  },
  {
   "cell_type": "code",
   "execution_count": 189,
   "metadata": {},
   "outputs": [
    {
     "data": {
      "text/plain": [
       "array([\"Queen's Park, Ontario Provincial Government\",\n",
       "       'Garden District, Ryerson', 'St. James Town', 'Berczy Park',\n",
       "       'Central Bay Street', 'Richmond, Adelaide, King',\n",
       "       'Harbourfront East, Union Station, Toronto Islands',\n",
       "       'Toronto Dominion Centre, Design Exchange',\n",
       "       'Commerce Court, Victoria Hotel',\n",
       "       'CN Tower, King and Spadina, Railway Lands, Harbourfront West, Bathurst Quay, South Niagara, Island airport',\n",
       "       'Stn A PO Boxes', 'First Canadian Place, Underground city',\n",
       "       'Church and Wellesley'], dtype=object)"
      ]
     },
     "execution_count": 189,
     "metadata": {},
     "output_type": "execute_result"
    }
   ],
   "source": [
    "Cluster2['Neighborhood'].unique()"
   ]
  },
  {
   "cell_type": "code",
   "execution_count": 190,
   "metadata": {},
   "outputs": [
    {
     "data": {
      "text/html": [
       "<div>\n",
       "<style scoped>\n",
       "    .dataframe tbody tr th:only-of-type {\n",
       "        vertical-align: middle;\n",
       "    }\n",
       "\n",
       "    .dataframe tbody tr th {\n",
       "        vertical-align: top;\n",
       "    }\n",
       "\n",
       "    .dataframe thead th {\n",
       "        text-align: right;\n",
       "    }\n",
       "</style>\n",
       "<table border=\"1\" class=\"dataframe\">\n",
       "  <thead>\n",
       "    <tr style=\"text-align: right;\">\n",
       "      <th></th>\n",
       "      <th>Borough</th>\n",
       "      <th>Neighborhood Latitude</th>\n",
       "      <th>Neighborhood Longitude</th>\n",
       "      <th>Venue</th>\n",
       "      <th>Venue Latitude</th>\n",
       "      <th>Cluster Labels</th>\n",
       "      <th>Venue Longitude</th>\n",
       "    </tr>\n",
       "    <tr>\n",
       "      <th>Neighborhood</th>\n",
       "      <th></th>\n",
       "      <th></th>\n",
       "      <th></th>\n",
       "      <th></th>\n",
       "      <th></th>\n",
       "      <th></th>\n",
       "      <th></th>\n",
       "    </tr>\n",
       "  </thead>\n",
       "  <tbody>\n",
       "    <tr>\n",
       "      <th>Central Bay Street</th>\n",
       "      <td>8</td>\n",
       "      <td>8</td>\n",
       "      <td>8</td>\n",
       "      <td>8</td>\n",
       "      <td>8</td>\n",
       "      <td>8</td>\n",
       "      <td>8</td>\n",
       "    </tr>\n",
       "    <tr>\n",
       "      <th>Commerce Court, Victoria Hotel</th>\n",
       "      <td>8</td>\n",
       "      <td>8</td>\n",
       "      <td>8</td>\n",
       "      <td>8</td>\n",
       "      <td>8</td>\n",
       "      <td>8</td>\n",
       "      <td>8</td>\n",
       "    </tr>\n",
       "    <tr>\n",
       "      <th>First Canadian Place, Underground city</th>\n",
       "      <td>8</td>\n",
       "      <td>8</td>\n",
       "      <td>8</td>\n",
       "      <td>8</td>\n",
       "      <td>8</td>\n",
       "      <td>8</td>\n",
       "      <td>8</td>\n",
       "    </tr>\n",
       "    <tr>\n",
       "      <th>Harbourfront East, Union Station, Toronto Islands</th>\n",
       "      <td>7</td>\n",
       "      <td>7</td>\n",
       "      <td>7</td>\n",
       "      <td>7</td>\n",
       "      <td>7</td>\n",
       "      <td>7</td>\n",
       "      <td>7</td>\n",
       "    </tr>\n",
       "    <tr>\n",
       "      <th>Toronto Dominion Centre, Design Exchange</th>\n",
       "      <td>7</td>\n",
       "      <td>7</td>\n",
       "      <td>7</td>\n",
       "      <td>7</td>\n",
       "      <td>7</td>\n",
       "      <td>7</td>\n",
       "      <td>7</td>\n",
       "    </tr>\n",
       "    <tr>\n",
       "      <th>Stn A PO Boxes</th>\n",
       "      <td>6</td>\n",
       "      <td>6</td>\n",
       "      <td>6</td>\n",
       "      <td>6</td>\n",
       "      <td>6</td>\n",
       "      <td>6</td>\n",
       "      <td>6</td>\n",
       "    </tr>\n",
       "    <tr>\n",
       "      <th>Garden District, Ryerson</th>\n",
       "      <td>5</td>\n",
       "      <td>5</td>\n",
       "      <td>5</td>\n",
       "      <td>5</td>\n",
       "      <td>5</td>\n",
       "      <td>5</td>\n",
       "      <td>5</td>\n",
       "    </tr>\n",
       "    <tr>\n",
       "      <th>Richmond, Adelaide, King</th>\n",
       "      <td>5</td>\n",
       "      <td>5</td>\n",
       "      <td>5</td>\n",
       "      <td>5</td>\n",
       "      <td>5</td>\n",
       "      <td>5</td>\n",
       "      <td>5</td>\n",
       "    </tr>\n",
       "    <tr>\n",
       "      <th>St. James Town</th>\n",
       "      <td>5</td>\n",
       "      <td>5</td>\n",
       "      <td>5</td>\n",
       "      <td>5</td>\n",
       "      <td>5</td>\n",
       "      <td>5</td>\n",
       "      <td>5</td>\n",
       "    </tr>\n",
       "    <tr>\n",
       "      <th>Church and Wellesley</th>\n",
       "      <td>4</td>\n",
       "      <td>4</td>\n",
       "      <td>4</td>\n",
       "      <td>4</td>\n",
       "      <td>4</td>\n",
       "      <td>4</td>\n",
       "      <td>4</td>\n",
       "    </tr>\n",
       "    <tr>\n",
       "      <th>Berczy Park</th>\n",
       "      <td>3</td>\n",
       "      <td>3</td>\n",
       "      <td>3</td>\n",
       "      <td>3</td>\n",
       "      <td>3</td>\n",
       "      <td>3</td>\n",
       "      <td>3</td>\n",
       "    </tr>\n",
       "    <tr>\n",
       "      <th>Queen's Park, Ontario Provincial Government</th>\n",
       "      <td>3</td>\n",
       "      <td>3</td>\n",
       "      <td>3</td>\n",
       "      <td>3</td>\n",
       "      <td>3</td>\n",
       "      <td>3</td>\n",
       "      <td>3</td>\n",
       "    </tr>\n",
       "    <tr>\n",
       "      <th>CN Tower, King and Spadina, Railway Lands, Harbourfront West, Bathurst Quay, South Niagara, Island airport</th>\n",
       "      <td>1</td>\n",
       "      <td>1</td>\n",
       "      <td>1</td>\n",
       "      <td>1</td>\n",
       "      <td>1</td>\n",
       "      <td>1</td>\n",
       "      <td>1</td>\n",
       "    </tr>\n",
       "  </tbody>\n",
       "</table>\n",
       "</div>"
      ],
      "text/plain": [
       "                                                    Borough  \\\n",
       "Neighborhood                                                  \n",
       "Central Bay Street                                        8   \n",
       "Commerce Court, Victoria Hotel                            8   \n",
       "First Canadian Place, Underground city                    8   \n",
       "Harbourfront East, Union Station, Toronto Islands         7   \n",
       "Toronto Dominion Centre, Design Exchange                  7   \n",
       "Stn A PO Boxes                                            6   \n",
       "Garden District, Ryerson                                  5   \n",
       "Richmond, Adelaide, King                                  5   \n",
       "St. James Town                                            5   \n",
       "Church and Wellesley                                      4   \n",
       "Berczy Park                                               3   \n",
       "Queen's Park, Ontario Provincial Government               3   \n",
       "CN Tower, King and Spadina, Railway Lands, Harb...        1   \n",
       "\n",
       "                                                    Neighborhood Latitude  \\\n",
       "Neighborhood                                                                \n",
       "Central Bay Street                                                      8   \n",
       "Commerce Court, Victoria Hotel                                          8   \n",
       "First Canadian Place, Underground city                                  8   \n",
       "Harbourfront East, Union Station, Toronto Islands                       7   \n",
       "Toronto Dominion Centre, Design Exchange                                7   \n",
       "Stn A PO Boxes                                                          6   \n",
       "Garden District, Ryerson                                                5   \n",
       "Richmond, Adelaide, King                                                5   \n",
       "St. James Town                                                          5   \n",
       "Church and Wellesley                                                    4   \n",
       "Berczy Park                                                             3   \n",
       "Queen's Park, Ontario Provincial Government                             3   \n",
       "CN Tower, King and Spadina, Railway Lands, Harb...                      1   \n",
       "\n",
       "                                                    Neighborhood Longitude  \\\n",
       "Neighborhood                                                                 \n",
       "Central Bay Street                                                       8   \n",
       "Commerce Court, Victoria Hotel                                           8   \n",
       "First Canadian Place, Underground city                                   8   \n",
       "Harbourfront East, Union Station, Toronto Islands                        7   \n",
       "Toronto Dominion Centre, Design Exchange                                 7   \n",
       "Stn A PO Boxes                                                           6   \n",
       "Garden District, Ryerson                                                 5   \n",
       "Richmond, Adelaide, King                                                 5   \n",
       "St. James Town                                                           5   \n",
       "Church and Wellesley                                                     4   \n",
       "Berczy Park                                                              3   \n",
       "Queen's Park, Ontario Provincial Government                              3   \n",
       "CN Tower, King and Spadina, Railway Lands, Harb...                       1   \n",
       "\n",
       "                                                    Venue  Venue Latitude  \\\n",
       "Neighborhood                                                                \n",
       "Central Bay Street                                      8               8   \n",
       "Commerce Court, Victoria Hotel                          8               8   \n",
       "First Canadian Place, Underground city                  8               8   \n",
       "Harbourfront East, Union Station, Toronto Islands       7               7   \n",
       "Toronto Dominion Centre, Design Exchange                7               7   \n",
       "Stn A PO Boxes                                          6               6   \n",
       "Garden District, Ryerson                                5               5   \n",
       "Richmond, Adelaide, King                                5               5   \n",
       "St. James Town                                          5               5   \n",
       "Church and Wellesley                                    4               4   \n",
       "Berczy Park                                             3               3   \n",
       "Queen's Park, Ontario Provincial Government             3               3   \n",
       "CN Tower, King and Spadina, Railway Lands, Harb...      1               1   \n",
       "\n",
       "                                                    Cluster Labels  \\\n",
       "Neighborhood                                                         \n",
       "Central Bay Street                                               8   \n",
       "Commerce Court, Victoria Hotel                                   8   \n",
       "First Canadian Place, Underground city                           8   \n",
       "Harbourfront East, Union Station, Toronto Islands                7   \n",
       "Toronto Dominion Centre, Design Exchange                         7   \n",
       "Stn A PO Boxes                                                   6   \n",
       "Garden District, Ryerson                                         5   \n",
       "Richmond, Adelaide, King                                         5   \n",
       "St. James Town                                                   5   \n",
       "Church and Wellesley                                             4   \n",
       "Berczy Park                                                      3   \n",
       "Queen's Park, Ontario Provincial Government                      3   \n",
       "CN Tower, King and Spadina, Railway Lands, Harb...               1   \n",
       "\n",
       "                                                    Venue Longitude  \n",
       "Neighborhood                                                         \n",
       "Central Bay Street                                                8  \n",
       "Commerce Court, Victoria Hotel                                    8  \n",
       "First Canadian Place, Underground city                            8  \n",
       "Harbourfront East, Union Station, Toronto Islands                 7  \n",
       "Toronto Dominion Centre, Design Exchange                          7  \n",
       "Stn A PO Boxes                                                    6  \n",
       "Garden District, Ryerson                                          5  \n",
       "Richmond, Adelaide, King                                          5  \n",
       "St. James Town                                                    5  \n",
       "Church and Wellesley                                              4  \n",
       "Berczy Park                                                       3  \n",
       "Queen's Park, Ontario Provincial Government                       3  \n",
       "CN Tower, King and Spadina, Railway Lands, Harb...                1  "
      ]
     },
     "execution_count": 190,
     "metadata": {},
     "output_type": "execute_result"
    }
   ],
   "source": [
    "Cluster2.groupby(\"Neighborhood\").count().sort_values(by=\"Venue\",ascending=False)"
   ]
  },
  {
   "cell_type": "code",
   "execution_count": null,
   "metadata": {},
   "outputs": [],
   "source": []
  }
 ],
 "metadata": {
  "kernelspec": {
   "display_name": "Python 3",
   "language": "python",
   "name": "python3"
  },
  "language_info": {
   "codemirror_mode": {
    "name": "ipython",
    "version": 3
   },
   "file_extension": ".py",
   "mimetype": "text/x-python",
   "name": "python",
   "nbconvert_exporter": "python",
   "pygments_lexer": "ipython3",
   "version": "3.6.4"
  },
  "latex_envs": {
   "LaTeX_envs_menu_present": true,
   "autoclose": false,
   "autocomplete": true,
   "bibliofile": "biblio.bib",
   "cite_by": "apalike",
   "current_citInitial": 1,
   "eqLabelWithNumbers": true,
   "eqNumInitial": 1,
   "hotkeys": {
    "equation": "Ctrl-E",
    "itemize": "Ctrl-I"
   },
   "labels_anchors": false,
   "latex_user_defs": false,
   "report_style_numbering": false,
   "user_envs_cfg": false
  }
 },
 "nbformat": 4,
 "nbformat_minor": 2
}
